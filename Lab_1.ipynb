{
 "cells": [
  {
   "cell_type": "markdown",
   "id": "720c79e2",
   "metadata": {},
   "source": [
    "# Recap"
   ]
  },
  {
   "cell_type": "markdown",
   "id": "9bee2927",
   "metadata": {},
   "source": [
    "### Physical variables\n",
    "- Stellar Mass $M_*$,   Star formation rate $\\text{SFR} = dM/dt$,\n",
    "- Redshift $z$\n",
    "- Metallicity $Z$\n",
    "- Galaxy Age $t_\\text{gal}$\n",
    "- Mass of the gas $M_\\text{gas}$ (new!)\n",
    "- Supernovae explosion rate $\\text{SN}_e$"
   ]
  },
  {
   "cell_type": "markdown",
   "id": "b32a1bc2",
   "metadata": {},
   "source": [
    "### Observations\n",
    "The star formation rate vs mass is proven to be very interesting, there seems to be two populations\n",
    "<br>\n",
    "\n",
    "<img src=topcat/plots/Mass_sfr.jpg width = 600px>\n",
    "\n",
    "Also nebular metallicity and mass is interesting\n",
    "\n",
    "<img src=topcat/plots/Mass_z.jpg width = 600px>\n",
    "\n",
    "Also the specific star formation rate \n",
    "\n",
    "$$\\dfrac{SFR}{M_*}$$\n",
    "\n",
    "<img src=topcat/plots/specific_sfr_mass.jpg width = 600px>\n",
    "\n",
    "In the case of the specific SFR you find that the dividing line is now horizontal, so apparently the two populations are divided by -11 which corresponds to $1/10^{11}\\ \\text{yrs}$"
   ]
  },
  {
   "cell_type": "markdown",
   "id": "a13e92c0",
   "metadata": {},
   "source": [
    "### Assumptions\n",
    "- $\\alpha = 1$\n",
    "- Closed box model"
   ]
  },
  {
   "cell_type": "markdown",
   "id": "f6d6693b",
   "metadata": {},
   "source": [
    "### Model"
   ]
  },
  {
   "cell_type": "markdown",
   "id": "9cdac2c6",
   "metadata": {},
   "source": [
    "Is there a causality between the SFR and the mass? We see it in a plot but note **Correlation doesn't imply causality**, maybe the correlation is implied by some hidden variable.\n",
    "We found that the actual dependence is hidden in the Gas mass $M_\\text{gas}$.\n",
    "\n",
    "Let's make a sketch."
   ]
  },
  {
   "cell_type": "markdown",
   "id": "8cde86bf",
   "metadata": {},
   "source": []
  },
  {
   "cell_type": "markdown",
   "id": "153ac910",
   "metadata": {},
   "source": [
    "We found that there is a conversion of gas mass into stars and suggested the folowing relation\n",
    "\n",
    "$$\n",
    "    \\text{SFR} = \\epsilon\\ (M_\\text{gas})^\\alpha \n",
    "$$\n",
    "\n",
    "In our simplified model we assumed $\\alpha = 1$\n",
    "\n",
    "How does this happen? Due to the **Jeans criterion** which is given by the equilibrium of Gravity and Kinetic Pressure. \n",
    "The one gas that collapses if \n",
    "\n",
    "$$\n",
    "    M_\\text{gas} > M_J(T, Z, ...)\n",
    "$$\n",
    "\n",
    "The Jeans mass depends on the sound speed which itself depends on the Temperature of the gas and its metallicity."
   ]
  },
  {
   "cell_type": "markdown",
   "id": "1bce00c2",
   "metadata": {},
   "source": [
    "To test this hypothesis, we can try to plot the surface density of the galaxy disk and the star formation rate for many galaxy. This test has already been done, what was found is an almost linear trend\n",
    "\n",
    "$$\n",
    "    \\Sigma_\\text{SFR} \\propto (\\Sigma_\\text{gas})^\\alpha \\qquad \\alpha \\in (1, 1.5)\n",
    "$$"
   ]
  },
  {
   "cell_type": "markdown",
   "id": "ca522387",
   "metadata": {},
   "source": [
    "---"
   ]
  },
  {
   "cell_type": "markdown",
   "id": "ac947be5",
   "metadata": {},
   "source": [
    "Having said this you can write the following\n",
    "\n",
    "$$\n",
    "    M_*(t) = \\int_{t_0}^t \\text{SFR}(t') dt' = \\int_{t_0}^t \\epsilon M_\\text{gas}(t') dt' \n",
    "$$\n",
    "\n",
    "Now we want to understand\n",
    "\n",
    "$$\n",
    "    \\dfrac{dM\\text{gas}}{dt} =\\ ?\n",
    "$$\n",
    "\n",
    "We need an assumption, the **closed box approximation**, for which $M_\\text{gas}^\\text{in} = M_\\text{gas}^{\\text{out}} = 0 $\n",
    "And so the only process responsible is star formation\n",
    "\n",
    "$$\n",
    "    \\dfrac{dM\\text{gas}}{dt} = -\\text{SFR}\n",
    "$$\n",
    "And so \n",
    "\n",
    "$$\n",
    "    M\\text{gas} = M_\\text{tot} e^{-\\epsilon t}\n",
    "$$\n",
    "\n",
    "Now, does the model match with the observations? We may need to add more variables, redshift, metallicity for the degeneracy or even review some assumptions that we made preemptively"
   ]
  },
  {
   "cell_type": "markdown",
   "id": "928cb8e1",
   "metadata": {},
   "source": [
    "we also want to find the metallicity, for example \n",
    "$$\n",
    "    Z_\\text{neb} = \\int ...\\ (M_\\text{gas})^{\\ ...} \\ dt'\n",
    "$$\n",
    "\n",
    "Last time we were exploring that\n",
    "\n",
    "$$\n",
    "    Z_\\text{neb} \\propto \\frac{M_\\text{O}}{M_\\text{gas}} \\propto \\frac{M_*}{M_\\text{gas}} ?\n",
    "$$"
   ]
  },
  {
   "cell_type": "code",
   "execution_count": null,
   "id": "39b575f3",
   "metadata": {},
   "outputs": [],
   "source": []
  }
 ],
 "metadata": {
  "kernelspec": {
   "display_name": "Python 3 (ipykernel)",
   "language": "python",
   "name": "python3"
  },
  "language_info": {
   "codemirror_mode": {
    "name": "ipython",
    "version": 3
   },
   "file_extension": ".py",
   "mimetype": "text/x-python",
   "name": "python",
   "nbconvert_exporter": "python",
   "pygments_lexer": "ipython3",
   "version": "3.10.10"
  }
 },
 "nbformat": 4,
 "nbformat_minor": 5
}
