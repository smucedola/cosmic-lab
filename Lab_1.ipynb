{
 "cells": [
  {
   "cell_type": "markdown",
   "id": "720c79e2",
   "metadata": {},
   "source": [
    "# Recap\n",
    "<img src=Material/p1.jpeg width=450 align=left>\n",
    "<img src=Material/p2.jpeg width=450 align=right>"
   ]
  },
  {
   "cell_type": "markdown",
   "id": "9bee2927",
   "metadata": {},
   "source": [
    "### Physical variables\n",
    "- Stellar Mass $M_*$,   Star formation rate $\\text{SFR} = dM/dt$,\n",
    "- Redshift $z$\n",
    "- Metallicity $Z$\n",
    "- Galaxy Age $t_\\text{gal}$\n",
    "- Mass of the gas $M_\\text{gas}$ (new!)\n",
    "- Supernovae explosion rate $\\text{SN}_e$"
   ]
  },
  {
   "cell_type": "markdown",
   "id": "b32a1bc2",
   "metadata": {},
   "source": [
    "### Observations\n",
    "The star formation rate vs mass is proven to be very interesting, there seems to be two populations\n",
    "<br>\n",
    "\n",
    "<img src=plots/Mass_sfr.jpg width = 600px>\n",
    "\n",
    "Also nebular metallicity and mass is interesting\n",
    "\n",
    "<img src=plots/Mass_z.jpg width = 600px>\n",
    "\n",
    "Also the specific star formation rate \n",
    "\n",
    "$$\\dfrac{SFR}{M_*}$$\n",
    "\n",
    "<img src=plots/specific_sfr_mass.jpg width = 600px>\n",
    "\n",
    "In the case of the specific SFR you find that the dividing line is now horizontal, so apparently the two populations are divided by -11 which corresponds to $1/10^{11}\\ \\text{yrs}$"
   ]
  },
  {
   "cell_type": "markdown",
   "id": "a13e92c0",
   "metadata": {},
   "source": [
    "### Assumptions\n",
    "- $\\alpha = 1$\n",
    "- Closed box model"
   ]
  },
  {
   "cell_type": "markdown",
   "id": "f6d6693b",
   "metadata": {},
   "source": [
    "### Model"
   ]
  },
  {
   "cell_type": "markdown",
   "id": "9cdac2c6",
   "metadata": {},
   "source": [
    "Is there a causality between the SFR and the mass? We see it in a plot but note **Correlation doesn't imply causality**, maybe the correlation is implied by some hidden variable.\n",
    "We found that the actual dependence is hidden in the Gas mass $M_\\text{gas}$.\n",
    "\n",
    "Let's make a sketch."
   ]
  },
  {
   "cell_type": "markdown",
   "id": "8cde86bf",
   "metadata": {},
   "source": []
  },
  {
   "cell_type": "markdown",
   "id": "153ac910",
   "metadata": {},
   "source": [
    "We found that there is a conversion of gas mass into stars and suggested the folowing relation\n",
    "\n",
    "$$\n",
    "    \\text{SFR} = \\epsilon\\ (M_\\text{gas})^\\alpha \n",
    "$$\n",
    "\n",
    "In our simplified model we assumed $\\alpha = 1$\n",
    "\n",
    "How does this happen? Due to the **Jeans criterion** which is given by the equilibrium of Gravity and Kinetic Pressure. \n",
    "The one gas that collapses if \n",
    "\n",
    "$$\n",
    "    M_\\text{gas} > M_J(T, Z, ...)\n",
    "$$\n",
    "\n",
    "The Jeans mass depends on the sound speed which itself depends on the Temperature of the gas and its metallicity."
   ]
  },
  {
   "cell_type": "markdown",
   "id": "1bce00c2",
   "metadata": {},
   "source": [
    "To test this hypothesis, we can try to plot the surface density of the galaxy disk and the star formation rate for many galaxy. This test has already been done, what was found is an almost linear trend\n",
    "\n",
    "$$\n",
    "    \\Sigma_\\text{SFR} \\propto (\\Sigma_\\text{gas})^\\alpha \\qquad \\alpha \\in (1, 1.5)\n",
    "$$"
   ]
  },
  {
   "cell_type": "markdown",
   "id": "ca522387",
   "metadata": {},
   "source": [
    "---"
   ]
  },
  {
   "cell_type": "markdown",
   "id": "ac947be5",
   "metadata": {},
   "source": [
    "Having said this you can write the following\n",
    "\n",
    "$$\n",
    "    M_*(t) = \\int_{t_0}^t \\text{SFR}(t') dt' = \\int_{t_0}^t \\epsilon M_\\text{gas}(t') dt' \n",
    "$$\n",
    "\n",
    "Now we want to understand\n",
    "\n",
    "$$\n",
    "    \\dfrac{dM\\text{gas}}{dt} =\\ ?\n",
    "$$\n",
    "\n",
    "We need an assumption, the **closed box approximation**, for which $M_\\text{gas}^\\text{in} = M_\\text{gas}^{\\text{out}} = 0 $\n",
    "And so the only process responsible is star formation\n",
    "\n",
    "$$\n",
    "    \\dfrac{dM\\text{gas}}{dt} = -\\text{SFR}\n",
    "$$\n",
    "And so \n",
    "\n",
    "$$\n",
    "    M\\text{gas} = M_\\text{tot} e^{-\\epsilon t}\n",
    "$$\n",
    "\n",
    "Now, does the model match with the observations? We may need to add more variables, redshift, metallicity for the degeneracy or even review some assumptions that we made preemptively"
   ]
  },
  {
   "cell_type": "markdown",
   "id": "928cb8e1",
   "metadata": {},
   "source": [
    "we also want to find the metallicity, for example \n",
    "$$\n",
    "    Z_\\text{neb} = \\int ...\\ (M_\\text{gas})^{\\ ...} \\ dt'\n",
    "$$\n",
    "\n",
    "Last time we were exploring that\n",
    "\n",
    "$$\n",
    "    Z_\\text{neb} \\propto \\frac{M_\\text{O}}{M_\\text{gas}} \\propto \\frac{M_*}{M_\\text{gas}} ?\n",
    "$$"
   ]
  },
  {
   "cell_type": "markdown",
   "id": "80679c21",
   "metadata": {},
   "source": [
    "# Investigation 1\n",
    "\n",
    "<img src=plots/Mass_sfr.jpg width = 500px align=right>\n",
    "\n",
    "We decided to start by comparing the Gas Mass expression with our data, particularly we're interested in the log mass vs sfr plot.\n",
    "We start from the following relations\n",
    "\n",
    "$$\n",
    "    \\frac{dM_*}{dt} = \\text{SFR} \\quad \\Longrightarrow \\quad M_* = \\int dt \\ \\text{SFR}\n",
    "$$\n",
    "\n",
    "And the ***closed box approximation***\n",
    "\n",
    "$$\n",
    "    \\text{SFR} = - \\frac{dM_\\text{gas}}{dt} = -\\epsilon M_\\text{gas}(t)\n",
    "$$\n",
    "\n",
    "\n",
    "From which we can find \n",
    "\n",
    "$$\n",
    "    M_\\text{gas} = M_\\text{gas}|_{t=0}\\ e^{-\\epsilon t}\n",
    "$$\n",
    "\n",
    "And then one can recast this into the stellar mass\n",
    "\n",
    "$$\n",
    "    M_* = -\\int_{t_0 = 0}^{t} dt\\ \\epsilon M_\\text{gas}\\  = -\\int dt\\ \\epsilon \\ M_\\text{gas}|_{t=0}\\ e^{-\\epsilon t}\n",
    "$$\n",
    "  \n",
    "$$\n",
    "    M_* = M_\\text{gas}|_{t=0} \\big( 1- e^{-\\epsilon t}\\big)\n",
    "$$\n",
    "\n",
    "Now the star formation rate can be calculated as the derivative of this last result, that is\n",
    "\n",
    "<br>\n",
    "\n",
    "$$\n",
    "    \\text{SFR} = M_\\text{gas}|_{t=0} \\ \\epsilon \\ e^{-\\epsilon t} = \\dfrac{M_*}{1- e^{-\\epsilon t}} \\epsilon \\ e^{-\\epsilon t }\n",
    "$$\n",
    "<br>\n",
    "\n",
    "From which we find\n",
    "\n",
    "$$\n",
    "    \\text{SFR}(M_*)= M_*\\ \\dfrac{\\epsilon}{e^{\\epsilon t} - 1}\n",
    "$$\n",
    "\n",
    "### Conclusions\n",
    "\n",
    "$t$ here is the *age of the galaxies*. By looking at the plot we immediately find that for this to be exact we espect a linear relation\n",
    "\n",
    "$$\n",
    "    \\log{\\text{SFR}} \\propto \\log{M_*}\n",
    "$$\n",
    "\n",
    "This means we should have *no mass dependence on the age of galaxies*, more over they should all have **the same age**, which age would that be?\n",
    "\n",
    "We can calculate it."
   ]
  },
  {
   "cell_type": "markdown",
   "id": "983da862",
   "metadata": {},
   "source": [
    "### Fetching and filtering"
   ]
  },
  {
   "cell_type": "code",
   "execution_count": 2,
   "id": "a659d40e",
   "metadata": {},
   "outputs": [],
   "source": [
    "import matplotlib.pyplot as plt\n",
    "import numpy as np\n",
    "from astropy import units as u\n",
    "from astropy.io import fits"
   ]
  },
  {
   "cell_type": "code",
   "execution_count": 3,
   "id": "24acbd8c",
   "metadata": {},
   "outputs": [
    {
     "data": {
      "text/plain": [
       "FITS_rec([( 299489676975171584, 146.71420288, -1.04130435, 0.02127545, 10.29470062, -5.20650327e-01, -9999., 0, 1,  299489676975171584, 4.6211758e+02, 10.688581 , 98.78678  , 6.727546 , 72.29009   , 6.938117 , 205.90462 , 8.761121 ,  299489676975171584, 146.71421, -1.0413043 , 0.02127545, 10.18000031, 0.,  4.  , 'composite'),\n",
       "          ( 299489951853078528, 146.91944885, -0.99049175, 0.21392463, 11.16201782, -3.49721670e-01, -9999., 0, 1,  299489951853078528, 1.5469431e+01,  6.547065 ,  8.996722 , 3.6223369,  0.20092708, 2.917477 ,  23.569141, 6.1320004,  299489951853078528, 146.91945, -0.99049175, 0.21392463, 11.09000015, 0.,  3.  , 'composite'),\n",
       "          ( 299490501608892416, 146.85983276, -0.80890167, 0.12655362, 11.37362385, -1.12491751e+00, -9999., 0, 1,  299490501608892416, 1.8467436e+01,  7.4497437,  6.5413513, 5.414522 , 19.528574  , 4.65369  ,  11.638905, 4.7927322,  299490501608892416, 146.85983, -0.80890165, 0.12655362, 11.14000034, 0., 12.  , 'composite'),\n",
       "          ...,\n",
       "          (3348601222339782656, 260.71600342, 32.02427673, 0.16735837, 10.94297028, -9.99900000e+03, -9999., 0, 1, 3348601222339782656, 1.3253593e+01,  3.9147058,  2.4306219, 2.6164677, 10.077177  , 3.3114133,  26.060007, 3.7600732, 3348601222339782656, 260.71601, 32.024276  , 0.16735837, 11.64000034, 0., 11.5 , 'composite'),\n",
       "          (3348601497217689600, 260.69723511, 32.28562927, 0.11154801, 10.75484371, -9.99900000e+03, -9999., 0, 1, 3348601497217689600, 1.4686159e+01,  2.942574 ,  5.930055 , 2.2058253, 18.44444   , 2.8895423,  22.094048, 3.5939462, 3348601497217689600, 260.69724, 32.285628  , 0.11154801, 11.28999996, 0., 10.25, 'composite'),\n",
       "          (3348601772095596544, 260.71624756, 32.09290314, 0.22395724, 10.98335648, -9.99900000e+03, -9999., 0, 1, 3348601772095596544, 2.1773125e-01,  2.5584283,  5.1261888, 2.8097236,  3.087804  , 2.3362298,  14.274588, 3.6338391, 3348601772095596544, 260.71625, 32.092904  , 0.22395724, 11.26000023, 0.,  4.5 , 'composite')],\n",
       "         dtype=(numpy.record, [('SDSS_SpecObjID_1', '>i8'), ('RA_degree_1', '>f8'), ('Dec_degree_1', '>f8'), ('Redshift_1', '>f8'), ('Log_stellar_mass_Msun_1', '>f8'), ('Log_SFR_Msun_yr', '>f8'), ('Metallicity_nebular', '>f8'), ('Redshift_flag', '>i8'), ('Parameter_flag', '>i8'), ('SDSS_SpecObjID_2', '>i8'), ('Halpha_flux', '>f4'), ('Halpha_flux_error', '>f4'), ('Hbeta_flux', '>f4'), ('Hbeta_flux_error', '>f4'), ('OIII_flux', '>f4'), ('OIII_flux_error', '>f4'), ('NII_flux', '>f4'), ('NII_flux_error', '>f4'), ('SDSS_SpecObjID', '>i8'), ('RA_degree_2', '>f8'), ('Dec_degree_2', '>f8'), ('Redshift_2', '>f8'), ('Log_stellar_mass_Msun_2', '>f8'), ('SFR_Msun_yr', '>f8'), ('Age_Gyr', '>f8'), ('Metallicity_stellar', 'S9')]))"
      ]
     },
     "execution_count": 3,
     "metadata": {},
     "output_type": "execute_result"
    }
   ],
   "source": [
    "data_= fits.open('catalogs/matched.fits')\n",
    "data_[1].data"
   ]
  },
  {
   "cell_type": "code",
   "execution_count": 4,
   "id": "366276b5",
   "metadata": {},
   "outputs": [],
   "source": [
    "SFR = data_[1].data['Log_SFR_Msun_yr']\n",
    "mass = data_[1].data['Log_stellar_mass_Msun_1']\n",
    "Z_neb = data_[1].data['Metallicity_nebular']"
   ]
  },
  {
   "cell_type": "code",
   "execution_count": 5,
   "id": "0fead442",
   "metadata": {},
   "outputs": [
    {
     "name": "stdout",
     "output_type": "stream",
     "text": [
      "[-9999. -9999. -9999. ... -9999. -9999. -9999.]\n",
      "[10.29470062 11.16201782 11.37362385 ... 10.94297028 10.75484371\n",
      " 10.98335648]\n",
      "[-0.52065033 -0.34972167 -1.12491751 ...  0.19182718 -2.05821419\n",
      " -0.83074206]\n"
     ]
    }
   ],
   "source": [
    "Z_neb_1 = Z_neb[Z_neb > -99]\n",
    "mass_1 = mass[mass > -99]\n",
    "SFR_1 = SFR[SFR > -99]\n",
    "print(Z_neb)\n",
    "print(mass_1)\n",
    "print(SFR_1)"
   ]
  },
  {
   "cell_type": "code",
   "execution_count": 6,
   "id": "03a5eaa0",
   "metadata": {},
   "outputs": [
    {
     "name": "stdout",
     "output_type": "stream",
     "text": [
      "[[10.29470062 11.16201782 11.37362385 ... 10.23716545  9.20087433\n",
      "   9.95433998]\n",
      " [-0.52065033 -0.34972167 -1.12491751 ...  0.19182718 -2.05821419\n",
      "  -0.83074206]]\n",
      "(2, 786907)\n"
     ]
    }
   ],
   "source": [
    "mask = np.logical_and(SFR>-99, mass>-99)\n",
    "mass_SFR = np.vstack([mass[mask], SFR[mask]])\n",
    "\n",
    "print(mass_SFR)\n",
    "print(mass_SFR.shape)"
   ]
  },
  {
   "cell_type": "code",
   "execution_count": 7,
   "id": "a724c768",
   "metadata": {},
   "outputs": [
    {
     "data": {
      "image/png": "[encoded data removed]",
      "text/plain": [
       "<Figure size 640x480 with 1 Axes>"
      ]
     },
     "metadata": {},
     "output_type": "display_data"
    }
   ],
   "source": [
    "plt.hist2d(mass_SFR[0, :], mass_SFR[1, :], bins = 100, cmap = 'viridis');"
   ]
  },
  {
   "cell_type": "markdown",
   "id": "7c8b722c",
   "metadata": {},
   "source": [
    "### Calculating the time\n",
    "Notice that the epsilon is given by the paper ok Kennycutt et al. and it points to a value of\n",
    "\n",
    "$$\n",
    "    \\epsilon = 0.25 \\ \\text{Gyr}^{-1}\n",
    "$$\n",
    "\n",
    "Which means we have to recast the star formation rate dimensionality onto Gyrs. Keep in mind that epsilon is the adimensionality constant that comes out of the ODE.\n",
    "\n",
    "If i call $R$ the specific star formation rate (that is the ratio of SFR and the stellar mass) i have that\n",
    "\n",
    "$$\n",
    "    t = \\epsilon^{-1} \\ln\\big({1 + \\dfrac{\\epsilon}{r}}\\big)\n",
    "$$"
   ]
  },
  {
   "cell_type": "code",
   "execution_count": 27,
   "id": "9d4ccb2b",
   "metadata": {},
   "outputs": [
    {
     "name": "stdout",
     "output_type": "stream",
     "text": [
      "[11.41240156 17.63774459 26.68265269 ...  5.31370508 15.34895156\n",
      " 11.15022986] Gyr\n"
     ]
    }
   ],
   "source": [
    "eps = .25*10**(-9)\n",
    "r = (10**(mass_SFR[1, :])/10**(mass_SFR[0, :]))\n",
    "t = 1/eps *np.log(1 + eps/r)\n",
    "t /= 10**(9)\n",
    "\n",
    "print(f'{t} Gyr')"
   ]
  },
  {
   "cell_type": "code",
   "execution_count": 28,
   "id": "21e5c107",
   "metadata": {},
   "outputs": [
    {
     "data": {
      "text/plain": [
       "<matplotlib.lines.Line2D at 0x7f61b459d7e0>"
      ]
     },
     "execution_count": 28,
     "metadata": {},
     "output_type": "execute_result"
    },
    {
     "data": {
      "image/png": "[encoded data removed]",
      "text/plain": [
       "<Figure size 640x480 with 1 Axes>"
      ]
     },
     "metadata": {},
     "output_type": "display_data"
    }
   ],
   "source": [
    "#plt.figure(figsize = (12,3))\n",
    "plt.hist(t, bins = 1000, alpha = .3)\n",
    "#plt.xlim(500,1200)\n",
    "plt.title('Age of the galaxies')\n",
    "plt.ylabel('Counts')\n",
    "plt.xlabel('Age [Gyr]')\n",
    "plt.axvline(13.8, ls='--', color='r')"
   ]
  },
  {
   "cell_type": "code",
   "execution_count": 29,
   "id": "194bfe02",
   "metadata": {},
   "outputs": [
    {
     "name": "stdout",
     "output_type": "stream",
     "text": [
      "6.595209771941981e-07\n"
     ]
    }
   ],
   "source": [
    "print(np.min(t)) #only 100 years?"
   ]
  },
  {
   "cell_type": "markdown",
   "id": "7701b2c4",
   "metadata": {},
   "source": [
    "With this model i'm able to explain only the first population, not the second.\n",
    "\n",
    "**The closed box approximation doesn't quite work**"
   ]
  },
  {
   "cell_type": "markdown",
   "id": "b471670f",
   "metadata": {},
   "source": [
    "## Lecture recap (16/05)\n",
    "\n",
    "### Observations (so far)\n",
    "\n",
    "Let's review the specific SFR plot, here we can identify two populations (just like the SFR/mass) let's call them\n",
    "- Main sequence (there are more galaxies)\n",
    "- Red sequence\n",
    "\n",
    "The two regions are split at the value of $\\text{SFR}/M_* = 10^{-11}$, also we can see the Red branch starts at $M_* \\sim 10^{10.5}$.\n",
    "\n",
    "<img src=plots/specific_sfr_mass.jpg width = 500px>\n",
    "\n",
    "<br>\n",
    "\n",
    "The metallicity is given by $Z = 12 + \\log(\\text{O/H})$, the 12 is given because we don't like a negative metallicity.\n",
    "\n",
    "<img src=plots/Mass_z.jpg width = 460px>\n",
    "\n",
    "\n",
    "There two plots are given at redshift $z \\approx 0$\n",
    "\n",
    "Also we can plot the SFR vs the redshift and we see some linear trend, **the SFR appears to be increasing with redshift**"
   ]
  },
  {
   "cell_type": "markdown",
   "id": "e90821a7",
   "metadata": {},
   "source": [
    "### Model\n",
    "\n",
    "We already saw that \n",
    "\n",
    "$$\n",
    "    \\text{SFR}(t) = \\epsilon M_\\text{gas}^\\alpha (t)\n",
    "$$\n",
    "\n",
    "And from this\n",
    "\n",
    "$$\n",
    "    M_* (t) = \\int_{t_0}^{t} \\text{SFR} (t')\\ dt'\n",
    "$$\n",
    "\n",
    "Now we made some very important assumptions! It's time to review them\n",
    "\n",
    "### Assumptions (to verify)\n",
    "- Closed box model $(\\dot{M}_\\text{gas}^{in} = 0, \\dot{M}_\\text{gas}^{out} = 0)$\n",
    "- $\\alpha = 1$\n",
    "- $\\epsilon = \\text{const.}$\n",
    "\n",
    "### Predictions \n",
    "$$\n",
    "    M_\\text{gas} = M_\\text{gas}|_{t=0}\\ e^{-\\epsilon t}\n",
    "$$\n",
    "\n",
    "$$\n",
    "    M_* = M_\\text{gas}|_{t=0} \\big( 1- e^{-\\epsilon t}\\big)\n",
    "$$\n",
    "\n",
    "$$\n",
    "    \\text{SFR}(M_*)= M_*\\ \\dfrac{\\epsilon}{e^{\\epsilon t} - 1}\n",
    "$$\n",
    "\n",
    "### Is this model consistent with the data?\n",
    "Let's split this in two parts.\n",
    "\n",
    "**For the MS population**: this is constant if $\\epsilon$ is constant with respect to the stellar mass and also if $(t-t_0)$, the age of the galaxies, is constant.\n",
    "\n",
    "$$\n",
    "    \\dfrac{d\\epsilon}{dM_*} = 0 \\qquad \\qquad \\dfrac{dt_\\text{age}}{dM_*} = 0\n",
    "$$\n",
    "\n",
    "Can we check if $\\epsilon$ is constant with mass? Kennycut did this, and by observing a bunch of galaxies and he found\n",
    "\n",
    "<img src=Material/kennycut.png width = 600px>"
   ]
  },
  {
   "cell_type": "markdown",
   "id": "f0ba16e8",
   "metadata": {},
   "source": [
    "Which normalized in a different way gives\n",
    "\n",
    "$$\n",
    "    \\Sigma_\\text{SFR} = 0.25\\ \\bigg(\\frac{\\Sigma_\\text{SFR}}{1M_\\odot \\text{pc}^{-2}}\\bigg)^{1.4}\\ M_\\odot\\ \\text{Gyr}^{-1} \\text{pc}^{-2}\n",
    "$$\n",
    "\n",
    "And so $\\epsilon = 0.25\\ \\text{Gyr}^{-1}$"
   ]
  },
  {
   "cell_type": "markdown",
   "id": "9f32b022",
   "metadata": {},
   "source": [
    "Kennycutt tried also to divide by time introducing the dynamical time, given by\n",
    "\n",
    "$$\n",
    "    \\tau_\\text{dyn} \\propto \\tau_\\text{ff} \\propto \\rho^{-1/2}\n",
    "$$\n",
    "\n",
    "And now you get a linear relation, you don't have the 1.4 at the exponent anymore\n",
    "\n",
    "$$\n",
    "    \\Sigma_\\text{SFR} = 0.017 \\ \\bigg(\\frac{\\Sigma_\\text{gas}}{1 M_\\odot \\text{pc}^{-2}} \\bigg) \\ \\bigg[\\frac{\\tau_\\text{dyn}}{\\text{yr}} \\bigg]^{-1} M_\\odot \\ \\text{kpc}^{-2}\n",
    "$$\n",
    "\n",
    "So now one can define\n",
    "\n",
    "$$\n",
    "\\epsilon = \\frac{\\epsilon '}{\\tau_\\text{dyn}}\n",
    "$$\n",
    "\n",
    "And here you say that $\\epsilon '$ is constant with mass and time, so that ***proves our first assumption*** (if all galaxies have the same dynamical time and they are at the same redshift than also $\\epsilon$ is constant)\n",
    "\n",
    "We should also prove that all galaxies have the same age but there is no way to prove this right now so we have to take this for granted. Still this proves that ***we can't rule out this model for MS population***"
   ]
  },
  {
   "cell_type": "markdown",
   "id": "b6f11116",
   "metadata": {},
   "source": [
    "**For the red population?** So how can we explain the transition at $\\log(M_*) > 10.5$? We can't find any physical mechanism that causes this sudden jump, maybe we should use different observables. Let's go into the metallicity."
   ]
  },
  {
   "cell_type": "markdown",
   "id": "5a68702a",
   "metadata": {},
   "source": [
    "### Metallicity\n",
    "\n",
    "Let's compute the following fraction\n",
    "\n",
    "$$\n",
    "    f_\\text{gas} = \\frac{M_\\text{gas} (t)}{M_\\text{gas}(t) + M_*(t)} =\\ e^{-\\epsilon\\ (t-t_0)}\n",
    "$$\n",
    "\n",
    "But how about the galaxies have different initial masses? This could be one way, let's check the metallicity observations.\n",
    "\n",
    "Now we define the following quantity analogue to the metallicity\n",
    "\n",
    "$$\n",
    "    \\frac{M_Z}{M_\\text{gas}} = Z = \\frac{\\text{O}}{\\text{H}}\\quad \\Longrightarrow \\quad \\frac{d M_Z}{dt} = ?\n",
    "$$\n",
    "\n",
    "We imagine that what guides the metals formation is the SFR and the supernovae explosion rate, to first order\n",
    "\n",
    "$$\n",
    "    \\frac{d M_Z}{dt} \\propto \\text{SFR}\n",
    "$$\n",
    "\n",
    "Actually we need the precise relation, we define $\\text{y}$ as the **metal yield**, and also we can see that a part of the metallicity goes into new stars\n",
    "\n",
    "$$\n",
    "    \\frac{d M_Z}{dt} = \\text{y}\\ \\text{SFR} - Z \\ \\text{SFR}\n",
    "    \n",
    "$$\n",
    "\n",
    "$$\n",
    "    \\frac{d M_Z}{dt} = \\text{y}\\ \\text{SFR} - \\frac{M_Z}{M_\\text{gas}} \\ \\text{SFR} \n",
    "$$\n",
    "\n",
    "This maybe should also be considered into the integral for when we calculate $M_*$ but metals really don't matter too much in the total mass of the stars, while they matter in the metallicity definition, of course.\n",
    "\n",
    "Now we need to solve the following differential equation\n",
    "\n",
    "$$\n",
    "    \\frac{d M_Z}{dt} + M_Z\\ \\epsilon = \\text{y} \\ \\text{SFR}\n",
    "$$\n",
    "\n",
    "Which has the solution\n",
    "\n",
    "$$\n",
    "    M_Z(t) = e^{-A(t)}\\cdot \\int_{t_0}^{t} \\text{y}\\ \\text{SFR}(t')\\ e^{A(t')}\\ dt' \\quad \\text{with} \\quad A(t) = \\int_{t_0}^{t} \\epsilon\\ dt = \\epsilon\\ (t-t_0)\n",
    "$$\n",
    "\n",
    "Assuming $\\epsilon$ is constant with time, which is not really true. The final solution is\n",
    "\n",
    "$$\n",
    "    M_Z (t) = \\text{y}\\ M_\\text{gas}(t_0)\\ \\epsilon \\ (t-t_0) \\ e^{-\\epsilon\\ (t-t_0)}\n",
    "$$\n",
    "\n",
    "So finally\n",
    "\n",
    "$$\n",
    "    Z(t) = \\frac{M_Z(t)}{M_\\text{gas}(t)} = \\text{y}\\cdot \\epsilon\\ (t-t_0)\n",
    "$$\n",
    "\n",
    "The metallicity **increases linearly with time**, but this linear relation still doesn't explain the sudden change in the two population.\n",
    "Now it's time to **open the box!!**"
   ]
  },
  {
   "cell_type": "markdown",
   "id": "13ad9cd7",
   "metadata": {},
   "source": [
    "### Reviewing assumptions: Leaky box assumption\n",
    "Now the galaxy can communicate with the external universe, you have the galaxy, then something, then the IGM. Let's say this something in between is:\n",
    "- Assumption: A **virialized dark matter halo + some gas** sourround the galaxies\n",
    "From this galaxy to the dark matter halo now you can have inflow and outflow of the gas mass.\n",
    "\n",
    "So now we have a new bigger structure, which is inside the IGM gas, a non virialized structure, and now you have an outflow and inflow of this virialized mass\n",
    "\n",
    "In short\n",
    "$$\n",
    "    M_\\text{gas}^{in} \\neq 0 \\qquad M_\\text{gas}^{out} \\neq 0\n",
    "$$\n",
    "\n",
    "And \n",
    "$$\n",
    "    M_\\text{vir}^{in} \\neq 0 \\qquad M_\\text{vir}^{out} \\neq 0 \n",
    "$$\n",
    "\n",
    "We need now to build a new model.\n",
    "\n",
    "$$\n",
    "    \\frac{d M_\\text{gas}}{dt} = \\dot{M}_\\text{gas}^{in} - \\dot{M}_\\text{gas}^{out} - \\epsilon\\ M_\\text{gas}(t)\n",
    "$$\n",
    "\n",
    "### Questions\n",
    "What is $\\dot{M}_\\text{vir}^{in}$? Which physical processes determine this change?\n",
    "\n",
    "What is $\\dot{M}_\\text{gas}^{out}$? Which physical processes determine this change?\n",
    "\n",
    "If i understand this i can maybe recast the differential equation in some way."
   ]
  },
  {
   "cell_type": "markdown",
   "id": "7c323ac3",
   "metadata": {},
   "source": [
    "---"
   ]
  },
  {
   "cell_type": "markdown",
   "id": "d8e6a020",
   "metadata": {},
   "source": [
    "# Investigation 2"
   ]
  }
 ],
 "metadata": {
  "kernelspec": {
   "display_name": "Python 3 (ipykernel)",
   "language": "python",
   "name": "python3"
  },
  "language_info": {
   "codemirror_mode": {
    "name": "ipython",
    "version": 3
   },
   "file_extension": ".py",
   "mimetype": "text/x-python",
   "name": "python",
   "nbconvert_exporter": "python",
   "pygments_lexer": "ipython3",
   "version": "3.10.10"
  }
 },
 "nbformat": 4,
 "nbformat_minor": 5
}
