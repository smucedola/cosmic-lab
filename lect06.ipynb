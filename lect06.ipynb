{
 "cells": [
  {
   "cell_type": "markdown",
   "id": "92c3b549",
   "metadata": {},
   "source": [
    "# Class 06\n",
    "The whole Lab lectures are divided in three parts:\n",
    "1. Introductory investigations\n",
    "2. Group work\n",
    "3. Presenting the work\n",
    "\n",
    "### Lab: Second Part\n",
    "We have seen some galaxies appear to stop forming stars after a certain age, the main quesion of this part of Laboratory will be\n",
    "```\n",
    "What physical processes produce the diversity of galaxies? Why do some galaxies stop forming stars?\n",
    "```\n",
    "This would be a **broad question**, while we must focus on a subset of this question. So within the context of a broad question we need to refine and develop a **specific question**.<br>\n",
    "In order to develop a specific question i need some data, they will be proposed by the Professor. And then comes the analysis.\n",
    "\n",
    "### Datasets\n",
    "There are two different types of dataset\n",
    "- Survey, so large area\n",
    "- Small areas but very deep (far away objects or individual objects)\n",
    "\n",
    "We will work with the SDSS (Sloan Digital Sky Survey), one of the largest surveys present.\n",
    "\n",
    "**What is the SDDS?** Sloan is a rich american guy who decided to spend his money on a telescope, the objective was to map all observable sky for 10 years from New Mexico, in different wavebands and doing some spectroscopy also. This is the **most widely used** for professional astronomers.\n",
    "\n",
    "We will also use the **Hubble space telescope** survey"
   ]
  },
  {
   "cell_type": "code",
   "execution_count": null,
   "id": "baf9db4a",
   "metadata": {},
   "outputs": [],
   "source": []
  }
 ],
 "metadata": {
  "kernelspec": {
   "display_name": "Python 3 (ipykernel)",
   "language": "python",
   "name": "python3"
  },
  "language_info": {
   "codemirror_mode": {
    "name": "ipython",
    "version": 3
   },
   "file_extension": ".py",
   "mimetype": "text/x-python",
   "name": "python",
   "nbconvert_exporter": "python",
   "pygments_lexer": "ipython3",
   "version": "3.10.10"
  }
 },
 "nbformat": 4,
 "nbformat_minor": 5
}
